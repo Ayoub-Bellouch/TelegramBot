{
 "cells": [
  {
   "cell_type": "markdown",
   "id": "76026b6f",
   "metadata": {},
   "source": [
    "## Telegram Automation:"
   ]
  },
  {
   "cell_type": "markdown",
   "id": "05bf6272",
   "metadata": {},
   "source": [
    "* On Telegram, search @ BotFather, send him a “/start” message\n",
    "* Send another “/newbot” message, then follow the instructions to setup a name and a username - Call it \"NotifCall\"\n",
    "* Choose a username of my bot -> \"NotifCall_bot\"\n",
    "* On Telegram, search your bot (by the username you just created), press the “Start” button or send a “/start” message\n",
    "* Use this token to access the HTTP API:\n",
    "                5121400289:AAHRZKx2voyY3HSfHJi2bgsLdHqnKB_WpcY\n",
    "                Keep your token secure and store it safely, it can be used by anyone to control your bot.\n",
    "* Open a new tab with your browser, enter https://api.telegram.org/bot<yourtoken>/getUpdates , replace <yourtoken> with                 your API token, press enter to run \n",
    "    https://api.telegram.org/bot5121400289:AAHRZKx2voyY3HSfHJi2bgsLdHqnKB_WpcY/getUpdates\n",
    "* Done! Congratulations on your new bot. You will find it at t.me/NotifCall_bot. You can now add a description, about section and profile picture for your bot, see /help for a list of commands. By the way, when you've finished creating your cool bot, ping our Bot Support if you want a better username for it. Just make sure the bot is fully operational before you do this.\n"
   ]
  },
  {
   "cell_type": "markdown",
   "id": "929239b8",
   "metadata": {},
   "source": [
    "## Sending Stocker Status Data as File via Telegram  "
   ]
  },
  {
   "cell_type": "code",
   "execution_count": 200,
   "id": "03789d79",
   "metadata": {
    "scrolled": true
   },
   "outputs": [],
   "source": [
    "# File generation \n",
    "from datetime import datetime \n",
    "import openpyxl\n",
    "import sys\n",
    "from os import path \n",
    "\n",
    "def send_local_file(file_path, chat_id, TELEGRAM_TOKEN):\n",
    "    f = open(file_path, 'rb')\n",
    "    file_bytes = f.read()\n",
    "    f.close()\n",
    "    response = {\n",
    "        'document': (f.name, file_bytes),\n",
    "        'chat_id': chat_id,\n",
    "        'TELEGRAM_TOKEN' : TELEGRAM_TOKEN\n",
    "    }\n",
    "    method_name = 'sendDocument'\n",
    "    return method_name, response\n",
    "\n",
    "def send_response(method_name, params):\n",
    "    if method_name == 'sendDocument':\n",
    "        document = params['document']\n",
    "        del params['document']\n",
    "        r = requests.post(url=API_URL.format(method_name=method_name), params=params, files={'document': document})\n",
    "    else:\n",
    "        r = requests.post(url=API_URL.format(method_name=method_name), params=params)\n",
    "    \n",
    "    return r\n",
    "#     return r.status_code == 200\n",
    "\n",
    "def is_descending(list_):\n",
    "    if len(list_) <= 1:\n",
    "        return True\n",
    "    # Strictement inférieur dans chaque enregistrement ou peut etre semblable dans des niveaux successives?\n",
    "    if list_[0] < list_[1]:\n",
    "        print({\"LogInfo\" : \"the list values is not in a descending order !\"})\n",
    "        return False\n",
    "    return is_descending(list_[1:])\n",
    "\n",
    "def collect_values():\n",
    "    counter = 0\n",
    "    InputValuesDict = {}\n",
    "    while counter <= 20:\n",
    "        # demander le type des Input \n",
    "        try:\n",
    "            NewInput = int(input())\n",
    "        except ValueError:\n",
    "            error_message = {\"error\": \"XxX _ Log Error : the entred value is not valid !\"}\n",
    "            return error_message\n",
    "        # afecter les input au dictionaire avec une specification de date d'entrée \n",
    "        InputValuesDict[str(datetime.now())] = NewInput\n",
    "        counter += 1\n",
    "    return InputValuesDict\n",
    "\n",
    "def file_generation():\n",
    "    InputDict = collect_values()\n",
    "    FileInfo_Res  = {}\n",
    "    FileInfo_Res[\"path\"] = \"No path\"\n",
    "    FileInfo_Res[\"path\"] = \"No data\"\n",
    "    if \"error\" in InputDict:\n",
    "        error_message = InputDict['error']\n",
    "        return error_message\n",
    "    \n",
    "    values = list(InputDict.values())\n",
    "    print('values : ', values)\n",
    "    if is_descending(values):\n",
    "        data = {'Date': list(InputDict.keys()), 'Values': list(InputDict.values())}\n",
    "        data_frame = pd.DataFrame.from_dict(data)\n",
    "        \n",
    "        # Data Saving: Optional or not ? \n",
    "        Data_Saving_path = \"\"\".\\\\Input_Data.xlsx\"\"\"\n",
    "        FileInfo_Res[\"path\"] = Data_Saving_path\n",
    "        FileInfo_Res[\"data\"] = data_frame\n",
    "        data_frame.to_excel(\"\"\"StockerStatus_Data.xlsx\"\"\")\n",
    "        \n",
    "        return FileInfo_Res\n",
    "    # The list is not in a descendinf order !\n",
    "    else:   \n",
    "        return False\n",
    "    \n",
    "\n",
    "\n",
    "def sending_telegram_notification(file_path, chat_id, TELEGRAM_TOKEN):\n",
    "    file_generation_response  = file_generation()\n",
    "    \n",
    "    if file_generation_response == False:\n",
    "        informational_message1 = {\"LogInfo\": \"No warning detected !\"}\n",
    "        return informational_message1\n",
    "\n",
    "    if path.exists(file_generation_response[\"path\"]):\n",
    "        method_name, params = send_local_file(file_path, chat_id, TELEGRAM_TOKEN)\n",
    "        response = send_response(method_name, params)\n",
    "        print({\"LogInfo\":\"Sending process is Done ! - Response Status : {} \".format(response.status_code)})\n",
    "    else:\n",
    "        error_message = {\"error\": \"saving data failure !\"}\n",
    "        return error_message"
   ]
  },
  {
   "cell_type": "code",
   "execution_count": 201,
   "id": "cfbd54a5",
   "metadata": {
    "collapsed": true
   },
   "outputs": [
    {
     "name": "stdout",
     "output_type": "stream",
     "text": [
      "100\n",
      "90\n",
      "80\n",
      "70\n",
      "66\n",
      "60\n",
      "55\n",
      "50\n",
      "44\n",
      "40\n",
      "33\n",
      "30\n",
      "22\n",
      "20\n",
      "11\n",
      "10\n",
      "9\n",
      "8\n",
      "7\n",
      "6\n",
      "5\n",
      "values :  [100, 90, 80, 70, 66, 60, 55, 50, 44, 40, 33, 30, 22, 20, 11, 10, 9, 8, 7, 6, 5]\n",
      "{'LogInfo': 'Sending process is Done ! - Response Status : 200 '}\n"
     ]
    }
   ],
   "source": [
    "def main():\n",
    "    file_path = \".\\\\StockerStatus_Data.xlsx\"\n",
    "    TELEGRAM_TOKEN = '5121400289:AAHRZKx2voyY3HSfHJi2bgsLdHqnKB_WpcY'\n",
    "    API_URL = f'https://api.telegram.org/bot{TELEGRAM_TOKEN}' + '/{method_name}'\n",
    "    chat_id = '1104376640'\n",
    "\n",
    "    sending_telegram_notification(file_path, chat_id, TELEGRAM_TOKEN)\n",
    "    \n",
    "if __name__ == '__main__':\n",
    "    main()"
   ]
  },
  {
   "cell_type": "code",
   "execution_count": null,
   "id": "bbd73560",
   "metadata": {},
   "outputs": [],
   "source": []
  },
  {
   "cell_type": "code",
   "execution_count": null,
   "id": "540397e1",
   "metadata": {},
   "outputs": [],
   "source": []
  },
  {
   "cell_type": "code",
   "execution_count": null,
   "id": "8f2507dd",
   "metadata": {},
   "outputs": [],
   "source": []
  },
  {
   "cell_type": "code",
   "execution_count": null,
   "id": "5beeeb85",
   "metadata": {},
   "outputs": [],
   "source": []
  },
  {
   "cell_type": "code",
   "execution_count": null,
   "id": "9bf3aaa3",
   "metadata": {},
   "outputs": [],
   "source": []
  },
  {
   "cell_type": "code",
   "execution_count": 203,
   "id": "18b1b125",
   "metadata": {},
   "outputs": [],
   "source": [
    "# # Test de la bibliothèque schedule\n",
    "# import schedule\n",
    "# import time\n",
    "\n",
    "# def job():\n",
    "#     print(\"I'm working...\")\n",
    "\n",
    "# schedule.every(10).seconds.do(job)\n",
    "# schedule.every(10).minutes.do(job)\n",
    "# schedule.every().hour.do(job)\n",
    "# schedule.every().day.at(\"10:30\").do(job)\n",
    "# schedule.every(5).to(10).minutes.do(job)\n",
    "# schedule.every().monday.do(job)\n",
    "# schedule.every().wednesday.at(\"13:15\").do(job)\n",
    "# schedule.every().minute.at(\":17\").do(job)\n",
    "\n",
    "# while True:\n",
    "#     schedule.run_pending()\n",
    "#     time.sleep(1)"
   ]
  },
  {
   "cell_type": "code",
   "execution_count": null,
   "id": "62a96c1c",
   "metadata": {},
   "outputs": [],
   "source": []
  },
  {
   "cell_type": "code",
   "execution_count": null,
   "id": "53306be5",
   "metadata": {},
   "outputs": [],
   "source": []
  },
  {
   "cell_type": "code",
   "execution_count": null,
   "id": "e228f8fb",
   "metadata": {},
   "outputs": [],
   "source": []
  }
 ],
 "metadata": {
  "kernelspec": {
   "display_name": "Python 3 (ipykernel)",
   "language": "python",
   "name": "python3"
  },
  "language_info": {
   "codemirror_mode": {
    "name": "ipython",
    "version": 3
   },
   "file_extension": ".py",
   "mimetype": "text/x-python",
   "name": "python",
   "nbconvert_exporter": "python",
   "pygments_lexer": "ipython3",
   "version": "3.8.12"
  }
 },
 "nbformat": 4,
 "nbformat_minor": 5
}
