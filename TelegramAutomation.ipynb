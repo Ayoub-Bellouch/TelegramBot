{
 "cells": [
  {
   "cell_type": "markdown",
   "id": "76026b6f",
   "metadata": {},
   "source": [
    "## Telegram Automation:"
   ]
  },
  {
   "cell_type": "markdown",
   "id": "05bf6272",
   "metadata": {},
   "source": [
    "* On Telegram, search @ BotFather, send him a “/start” message\n",
    "* Send another “/newbot” message, then follow the instructions to setup a name and a username - Call it \"NotifCall\"\n",
    "* Choose a username of my bot -> \"NotifCall_bot\"\n",
    "* On Telegram, search your bot (by the username you just created), press the “Start” button or send a “/start” message\n",
    "* Use this token to access the HTTP API:\n",
    "                5121400289:AAHRZKx2voyY3HSfHJi2bgsLdHqnKB_WpcY\n",
    "                Keep your token secure and store it safely, it can be used by anyone to control your bot.\n",
    "* Open a new tab with your browser, enter https://api.telegram.org/bot<yourtoken>/getUpdates , replace <yourtoken> with                 your API token, press enter to run \n",
    "    https://api.telegram.org/bot5121400289:AAHRZKx2voyY3HSfHJi2bgsLdHqnKB_WpcY/getUpdates\n",
    "* Done! Congratulations on your new bot. You will find it at t.me/NotifCall_bot. You can now add a description, about section and profile picture for your bot, see /help for a list of commands. By the way, when you've finished creating your cool bot, ping our Bot Support if you want a better username for it. Just make sure the bot is fully operational before you do this.\n"
   ]
  },
  {
   "cell_type": "code",
   "execution_count": 23,
   "id": "e31a9fbd",
   "metadata": {},
   "outputs": [],
   "source": [
    "import time\n",
    "import schedule\n",
    "import requests\n",
    "\n",
    "def telegram_bot_sendtext(bot_message):\n",
    "    bot_token = '5121400289:AAHRZKx2voyY3HSfHJi2bgsLdHqnKB_WpcY'\n",
    "    bot_chatID = '1104376640'\n",
    "    send_text = 'https://api.telegram.org/bot' + bot_token + '/sendMessage?chat_id=' + bot_chatID + '&parse_mode=Markdown&text=' + bot_message\n",
    "\n",
    "    response = requests.get(send_text)\n",
    "    return response.json()\n",
    "\n",
    "def report():\n",
    "    my_balance = 10   ## Replace this number with an API call to fetch your account balance\n",
    "    my_message = \"Current balance is: {}\".format(my_balance)   ## Customize your message\n",
    "    telegram_bot_sendtext(my_message)\n",
    "    print(my_message)\n",
    "\n",
    "# Faire un Running permanent configuré du script:\n",
    "# schedule.every().day.at(\"14:21\").do(report)\n",
    "\n",
    "# while True:\n",
    "#     schedule.run_pending()\n",
    "#     time.sleep(1)\n",
    "\n",
    "# report()"
   ]
  },
  {
   "cell_type": "code",
   "execution_count": 24,
   "id": "0cc3d71e",
   "metadata": {},
   "outputs": [
    {
     "data": {
      "text/plain": [
       "{'ok': True,\n",
       " 'result': {'message_id': 5,\n",
       "  'from': {'id': 5121400289,\n",
       "   'is_bot': True,\n",
       "   'first_name': 'NotifCall',\n",
       "   'username': 'NotifCall_bot'},\n",
       "  'chat': {'id': 1104376640,\n",
       "   'first_name': 'Arkido',\n",
       "   'last_name': 'DockerNight',\n",
       "   'type': 'private'},\n",
       "  'date': 1647092117,\n",
       "  'text': 'test test'}}"
      ]
     },
     "execution_count": 24,
     "metadata": {},
     "output_type": "execute_result"
    }
   ],
   "source": [
    "TestMessage = \"\"\"test test \"\"\"\n",
    "telegram_bot_sendtext(TestMessage)"
   ]
  },
  {
   "cell_type": "markdown",
   "id": "c2ca52de",
   "metadata": {},
   "source": [
    "Test de la bibliothèque schedule"
   ]
  },
  {
   "cell_type": "code",
   "execution_count": 2,
   "id": "18b1b125",
   "metadata": {
    "collapsed": true
   },
   "outputs": [
    {
     "name": "stdout",
     "output_type": "stream",
     "text": [
      "I'm working...\n",
      "I'm working...\n",
      "I'm working...\n",
      "I'm working...\n",
      "I'm working...\n",
      "I'm working...\n",
      "I'm working...\n",
      "I'm working...\n",
      "I'm working...\n",
      "I'm working...\n",
      "I'm working...\n",
      "I'm working...\n",
      "I'm working...\n"
     ]
    },
    {
     "name": "stderr",
     "output_type": "stream",
     "text": [
      "\n",
      "KeyboardInterrupt\n",
      "\n"
     ]
    }
   ],
   "source": [
    "import schedule\n",
    "import time\n",
    "\n",
    "def job():\n",
    "    print(\"I'm working...\")\n",
    "\n",
    "schedule.every(10).seconds.do(job)\n",
    "schedule.every(10).minutes.do(job)\n",
    "schedule.every().hour.do(job)\n",
    "schedule.every().day.at(\"10:30\").do(job)\n",
    "schedule.every(5).to(10).minutes.do(job)\n",
    "schedule.every().monday.do(job)\n",
    "schedule.every().wednesday.at(\"13:15\").do(job)\n",
    "schedule.every().minute.at(\":17\").do(job)\n",
    "\n",
    "while True:\n",
    "    schedule.run_pending()\n",
    "    time.sleep(1)\n",
    "    \n",
    "# Comment, to test "
   ]
  }
 ],
 "metadata": {
  "kernelspec": {
   "display_name": "Python 3 (ipykernel)",
   "language": "python",
   "name": "python3"
  },
  "language_info": {
   "codemirror_mode": {
    "name": "ipython",
    "version": 3
   },
   "file_extension": ".py",
   "mimetype": "text/x-python",
   "name": "python",
   "nbconvert_exporter": "python",
   "pygments_lexer": "ipython3",
   "version": "3.8.12"
  }
 },
 "nbformat": 4,
 "nbformat_minor": 5
}
