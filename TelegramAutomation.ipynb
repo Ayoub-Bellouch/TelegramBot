{
 "cells": [
  {
   "cell_type": "markdown",
   "id": "76026b6f",
   "metadata": {},
   "source": [
    "## Telegram Automation:"
   ]
  },
  {
   "cell_type": "markdown",
   "id": "05bf6272",
   "metadata": {},
   "source": [
    "* On Telegram, search @ BotFather, send him a “/start” message\n",
    "* Send another “/newbot” message, then follow the instructions to setup a name and a username - Call it \"NotifCall\"\n",
    "* Choose a username of my bot -> \"NotifCall_bot\"\n",
    "* On Telegram, search your bot (by the username you just created), press the “Start” button or send a “/start” message\n",
    "* Use this token to access the HTTP API:\n",
    "                5121400289:AAHRZKx2voyY3HSfHJi2bgsLdHqnKB_WpcY\n",
    "                Keep your token secure and store it safely, it can be used by anyone to control your bot.\n",
    "* Open a new tab with your browser, enter https://api.telegram.org/bot<yourtoken>/getUpdates , replace <yourtoken> with                 your API token, press enter to run \n",
    "    https://api.telegram.org/bot5121400289:AAHRZKx2voyY3HSfHJi2bgsLdHqnKB_WpcY/getUpdates\n",
    "* Done! Congratulations on your new bot. You will find it at t.me/NotifCall_bot. You can now add a description, about section and profile picture for your bot, see /help for a list of commands. By the way, when you've finished creating your cool bot, ping our Bot Support if you want a better username for it. Just make sure the bot is fully operational before you do this.\n"
   ]
  },
  {
   "cell_type": "markdown",
   "id": "929239b8",
   "metadata": {},
   "source": [
    "## Sending Stocker Status Data as File via Telegram  "
   ]
  },
  {
   "cell_type": "code",
   "execution_count": 303,
   "id": "03789d79",
   "metadata": {
    "scrolled": true
   },
   "outputs": [],
   "source": [
    "# File generation \n",
    "from datetime import datetime \n",
    "from os import path \n",
    "import pandas as pd \n",
    "import openpyxl\n",
    "import requests\n",
    "import sys\n",
    "\n",
    "def telegram_bot_sendtext(bot_message, TELEGRAM_TOKEN, chat_id):\n",
    "    bot_token = TELEGRAM_TOKEN\n",
    "    bot_chatID = chat_id\n",
    "    send_text = 'https://api.telegram.org/bot' + bot_token + '/sendMessage?chat_id=' + bot_chatID + '&parse_mode=Markdown&text=' + bot_message\n",
    "\n",
    "    response = requests.get(send_text)\n",
    "    return response\n",
    "\n",
    "def send_local_file(file_path, chat_id, TELEGRAM_TOKEN, API_URL):\n",
    "    f = open(file_path, 'rb')\n",
    "    file_bytes = f.read()\n",
    "    f.close()\n",
    "    response = {\n",
    "        'document': (f.name, file_bytes),\n",
    "        'chat_id': chat_id,\n",
    "        'TELEGRAM_TOKEN' : TELEGRAM_TOKEN, \n",
    "        'API_URL': API_URL\n",
    "    }\n",
    "    method_name = 'sendDocument'\n",
    "    return method_name, response\n",
    "\n",
    "def send_response(method_name, params):\n",
    "    API_URL = params['API_URL']\n",
    "    if method_name == 'sendDocument':\n",
    "        document = params['document']\n",
    "        del params['document']\n",
    "        r = requests.post(url=API_URL.format(method_name=method_name), params=params, files={'document': document})\n",
    "    else:\n",
    "        r = requests.post(url=API_URL.format(method_name=method_name), params=params)\n",
    "    \n",
    "    return r\n",
    "#     return r.status_code == 200\n",
    "\n",
    "def is_descending(list_):\n",
    "    if len(list_) <= 1:\n",
    "        return True\n",
    "    # Strictement inférieur dans chaque enregistrement ou peut etre semblable dans des niveaux successives?\n",
    "    if list_[0] < list_[1]:\n",
    "        print({\"LogInfo\" : \"the list values is not in a descending order !\"})\n",
    "        return False\n",
    "    return is_descending(list_[1:])\n",
    "\n",
    "def collect_values():\n",
    "    counter = 0\n",
    "    InputValuesDict = {}\n",
    "    while counter <= 20:\n",
    "        # verify inputs type\n",
    "        try:\n",
    "            NewInput = int(input(\"Enter the exact {} - th value of a the Stocker Status Please ! = > \".format(counter+1)))\n",
    "        except ValueError:\n",
    "            error_message = {\"error\": \"XxX _ Log Error : the entred value is not valid !\"}\n",
    "            return error_message\n",
    "        # assign the inputs to the dictionary with an entry date specification \n",
    "        InputValuesDict[str(datetime.now()).split('.')[0]] = NewInput\n",
    "        counter += 1\n",
    "    return InputValuesDict\n",
    "\n",
    "def file_generation():\n",
    "    InputDict = collect_values()\n",
    "    FileInfo_Res  = {}\n",
    "#     FileInfo_Res[\"path\"] = \"No path\"\n",
    "    FileInfo_Res[\"data\"] = \"No data\"\n",
    "    if \"error\" in InputDict:\n",
    "        error_message = InputDict['error']\n",
    "        return error_message\n",
    "    \n",
    "    values = list(InputDict.values())\n",
    "    print('values : ', values)\n",
    "    if is_descending(values):\n",
    "        data = {'Date': list(InputDict.keys()), 'Values': list(InputDict.values())}\n",
    "        data_frame = pd.DataFrame.from_dict(data)\n",
    "        \n",
    "        # Data Saving: Optional or not ? yes\n",
    "#         Data_Saving_path = \"\"\".\\\\StockerStatus_Data.xlsx\"\"\"\n",
    "#         FileInfo_Res[\"path\"] = Data_Saving_path\n",
    "#         data_frame.to_excel(\"\"\"StockerStatus_Data.xlsx\"\"\")\n",
    "        FileInfo_Res[\"data\"] = data_frame\n",
    "    \n",
    "        return FileInfo_Res\n",
    "    # The list is not in a descendinf order !\n",
    "    else:\n",
    "        return False\n",
    "    \n",
    "def sending_telegram_notification(file_path, chat_id, TELEGRAM_TOKEN, API_URL):\n",
    "    file_generation_response  = file_generation()\n",
    "    \n",
    "    if file_generation_response == False:\n",
    "        informational_message1 = {\"LogInfo\": \"No warning detected !\"}\n",
    "        return informational_message1\n",
    "    else:\n",
    "        msg_entete = \"Recap du : \"+str(datetime.now()).split('.')[0]+\"\\n\"\n",
    "        bot_message = msg_entete+file_generation_response[\"data\"].to_string()\n",
    "        response = telegram_bot_sendtext(bot_message, TELEGRAM_TOKEN, chat_id)\n",
    "        print({\"LogInfo\":\"Sending process is Done ! - Response Status : {} \".format(response.status_code)})\n",
    "        \n",
    "# #   Methode to send the data frame stored on a .xlsx file \n",
    "#     if path.exists(file_generation_response[\"path\"]):\n",
    "# #        method_name, params = send_local_file(file_path, chat_id, TELEGRAM_TOKEN, API_URL)\n",
    "#         response = send_response(method_name, params)\n",
    "#         print({\"LogInfo\":\"Sending process is Done ! - Response Status : {} \".format(response.status_code)})\n",
    "#     else:\n",
    "#         error_message = {\"error\": \"saving data failure !\"}\n",
    "#         return error_message"
   ]
  },
  {
   "cell_type": "code",
   "execution_count": 304,
   "id": "9b57961c",
   "metadata": {
    "collapsed": true
   },
   "outputs": [
    {
     "name": "stdout",
     "output_type": "stream",
     "text": [
      "Enter the exact 1 - th value of a the Stocker Status Please ! = > 999\n",
      "Enter the exact 2 - th value of a the Stocker Status Please ! = > 998\n",
      "Enter the exact 3 - th value of a the Stocker Status Please ! = > 977\n",
      "Enter the exact 4 - th value of a the Stocker Status Please ! = > 966\n",
      "Enter the exact 5 - th value of a the Stocker Status Please ! = > 955\n",
      "Enter the exact 6 - th value of a the Stocker Status Please ! = > 944\n",
      "Enter the exact 7 - th value of a the Stocker Status Please ! = > 933\n",
      "Enter the exact 8 - th value of a the Stocker Status Please ! = > 933\n",
      "Enter the exact 9 - th value of a the Stocker Status Please ! = > 922\n",
      "Enter the exact 10 - th value of a the Stocker Status Please ! = > 911\n",
      "Enter the exact 11 - th value of a the Stocker Status Please ! = > 9\n",
      "Enter the exact 12 - th value of a the Stocker Status Please ! = > 8\n",
      "Enter the exact 13 - th value of a the Stocker Status Please ! = > 7\n",
      "Enter the exact 14 - th value of a the Stocker Status Please ! = > 6\n",
      "Enter the exact 15 - th value of a the Stocker Status Please ! = > 5\n",
      "Enter the exact 16 - th value of a the Stocker Status Please ! = > 4\n",
      "Enter the exact 17 - th value of a the Stocker Status Please ! = > 4\n",
      "Enter the exact 18 - th value of a the Stocker Status Please ! = > 3\n",
      "Enter the exact 19 - th value of a the Stocker Status Please ! = > 2\n",
      "Enter the exact 20 - th value of a the Stocker Status Please ! = > 1\n",
      "Enter the exact 21 - th value of a the Stocker Status Please ! = > 1\n",
      "values :  [999, 998, 977, 966, 955, 944, 933, 933, 922, 911, 8, 6, 4, 3, 2, 1, 1]\n",
      "{'LogInfo': 'Sending process is Done ! - Response Status : 200 '}\n"
     ]
    }
   ],
   "source": [
    "def main():\n",
    "    file_path = \".\\\\StockerStatus_Data.xlsx\"\n",
    "    TELEGRAM_TOKEN = '5121400289:AAHRZKx2voyY3HSfHJi2bgsLdHqnKB_WpcY'\n",
    "    API_URL = f'https://api.telegram.org/bot{TELEGRAM_TOKEN}' + '/{method_name}'\n",
    "# # Only one receiver \n",
    "#     chat_id = '1104376640'\n",
    "# # For a groupe of users grouped on a telegram groupe \n",
    "    chat_id = '-783940739'\n",
    "    \n",
    "    sending_telegram_notification(file_path, chat_id, TELEGRAM_TOKEN, API_URL)\n",
    "    \n",
    "if __name__ == '__main__':\n",
    "    main()"
   ]
  },
  {
   "cell_type": "markdown",
   "id": "078b8088",
   "metadata": {},
   "source": [
    "## Simulation Caractère Stocker en temp réel :"
   ]
  },
  {
   "cell_type": "markdown",
   "id": "2eea6b7d",
   "metadata": {},
   "source": [
    "* After creating the bot using instruction in the top of this page, then:\n",
    "* Add the bot to the group: Go to the group, click on group name, click on Add members, \n",
    "    in the searchbox search for your bot like this: @my_bot, select your bot and click add. \n",
    "* open the group chat in a browser, you will see an URL in this format: \"https://web.telegram.org/z/#-783940739\" \n",
    "    a negative number occurs in the link, that is the chat_ID of the groupe that we can use to send our messages:\n",
    "* we consider chat_id = -783940739, then we can use the telegram_bot_sendtext method to do the necessary to send notifs. "
   ]
  },
  {
   "cell_type": "code",
   "execution_count": 12,
   "id": "8f2507dd",
   "metadata": {},
   "outputs": [],
   "source": [
    "# File generation \n",
    "from datetime import datetime\n",
    "from os import path\n",
    "import pandas as pd\n",
    "import openpyxl\n",
    "import requests\n",
    "import sys\n",
    "\n",
    "def telegram_bot_sendtext(bot_message, TELEGRAM_TOKEN, chat_id):\n",
    "    bot_token = TELEGRAM_TOKEN\n",
    "    bot_chatID = chat_id\n",
    "    send_text = 'https://api.telegram.org/bot' + bot_token + '/sendMessage?chat_id=' + bot_chatID + '&parse_mode=Markdown&text=' + bot_message\n",
    "\n",
    "    response = requests.get(send_text)\n",
    "    return response\n",
    "\n",
    "\n",
    "def sending_telegram_notification(data_delivery, chat_id, TELEGRAM_TOKEN, API_URL):\n",
    "        msg_entete = \"Recap du : \"+str(datetime.now()).split('.')[0]\n",
    "        # Message with full data description:\n",
    "        bot_message_data = msg_entete+data_delivery.to_string()\n",
    "        \n",
    "        # Wanted & Significant Data:\n",
    "        nbr_glass_on_stocker = list(data_delivery[\"Values\"])[-1]\n",
    "        time_to_stop_sec = 25 * nbr_glass_on_stocker\n",
    "        splited_chreno = str(timedelta(seconds=time_to_stop_sec)).split(\":\")\n",
    "        chreno_to_stop = \" ⚠ 🛑 {} : hours & {} : minutes & {} : seconds\".format(splited_chreno[0], splited_chreno[1], splited_chreno[2]) \n",
    "        \n",
    "        estimated_date_of_stop = str(datetime.now() + timedelta(seconds = int(time_to_stop_sec))).split('.')[0]\n",
    "        \n",
    "        message_info = \"{} , Date of next stop : {}\".format(chreno_to_stop, estimated_date_of_stop)\n",
    "        \n",
    "        bot_message = msg_entete + bot_message_data +\"\\n\\n\"+ message_info \n",
    "        response = telegram_bot_sendtext(bot_message, TELEGRAM_TOKEN, chat_id)\n",
    "        print({\"LogInfo\":\"Sending process is Done ! - Response Status : {} \".format(response.status_code)})\n",
    "        \n",
    "def is_descending(list_):\n",
    "    if len(list_) <= 1:\n",
    "        return True\n",
    "    # Strictement inférieur dans chaque enregistrement ou peut etre semblable dans des niveaux successives? Res: oui \n",
    "    if list_[0] < list_[1]:\n",
    "        print({\"LogInfo\" : \"the list values is not in a descending order !\"})\n",
    "        return False\n",
    "    return is_descending(list_[1:])\n",
    "\n",
    "def preProcess_collected_data(chat_id, TELEGRAM_TOKEN, API_URL):\n",
    "    TimeIndicatorList = []\n",
    "    ValuesList = []\n",
    "    counter = 0\n",
    "    InputValuesDict = {}\n",
    "    \n",
    "    while True:\n",
    "        # verify inputs type & methode || ensure that the input value is in the correct format \n",
    "        testInput = 0\n",
    "        while testInput == 0: \n",
    "            try:\n",
    "                NewInput = int(input(\"\\n\\n XxX _ Enter the exact {} - th value of a the Stocker Status Please ! = > \".format(counter+1)))\n",
    "                testInput = 1\n",
    "#                 print(\" XxX _ {} entred value !  \".format(counter))\n",
    "            except ValueError:\n",
    "                error_message = {\"error\": \"XxX _ Log Error : the entred value is not valid !\"}\n",
    "                print(error_message)\n",
    "        \n",
    "        # assign all inputs to a list with a date entry specification in another list \n",
    "        TimeIndicatorList.append(str(datetime.now()))\n",
    "        ValuesList.append(NewInput)\n",
    "        \n",
    "        if len(TimeIndicatorList) == len(ValuesList) and len(ValuesList) == 4:\n",
    "            # Verify if values are descending or  not and continue the process \n",
    "            print({\"LogInfo\":\"We get for the first time the desired level to continue the verification process in this level !\"})\n",
    "            \n",
    "        elif len(TimeIndicatorList) == len(ValuesList) and len(ValuesList) > 4: \n",
    "            # Use the FIFO methode to garantie the data shape equals 20\n",
    "            TimeIndicatorList = TimeIndicatorList[1:]\n",
    "            ValuesList = ValuesList[1:]\n",
    "            \n",
    "        else:\n",
    "            # Just continue appending values to the dataFrame   \n",
    "            print('\\n\\n')\n",
    "            counter += 1\n",
    "            continue\n",
    "        \n",
    "        # continue the process after preparing data and limiting it's lenght on 20 elements \n",
    "        assert len(ValuesList) == 4, 'Only lists with a length of 20 are accepted for processing.'\n",
    "        InputValuesDict = dict(zip(TimeIndicatorList, ValuesList))\n",
    "        print(\"InputValuesDict -> \", InputValuesDict)\n",
    "        values = list(InputValuesDict.values())\n",
    "        print(\"Values  -> \", values)\n",
    "        # verify the descendence of data to send a notification call !\n",
    "        if is_descending(values):\n",
    "            data = {'Date': list(InputValuesDict.keys()), 'Values': list(InputValuesDict.values())}\n",
    "            data_delivery = pd.DataFrame.from_dict(data)\n",
    "            print(data_delivery)\n",
    "            return data_delivery\n",
    "            print({\"LogInfo\":\"Call the bot groupe, there is a work to do ! \"})\n",
    "            sending_telegram_notification(data_delivery, chat_id, TELEGRAM_TOKEN, API_URL)\n",
    "        else:\n",
    "            print({\"LogInfo\": \"data input Nmbr : {} with the value : {}, no need for notification call, 👮: EverEverything's all right !\".format(counter, NewInput)})\n",
    "        counter += 1\n",
    "       "
   ]
  },
  {
   "cell_type": "code",
   "execution_count": 16,
   "id": "e16b6da0",
   "metadata": {
    "scrolled": true
   },
   "outputs": [
    {
     "name": "stdout",
     "output_type": "stream",
     "text": [
      "\n",
      "\n",
      " XxX _ Enter the exact 1 - th value of a the Stocker Status Please ! = > 9\n",
      "\n",
      "\n",
      "\n",
      "\n",
      "\n",
      " XxX _ Enter the exact 2 - th value of a the Stocker Status Please ! = > 8\n",
      "\n",
      "\n",
      "\n",
      "\n",
      "\n",
      " XxX _ Enter the exact 3 - th value of a the Stocker Status Please ! = > 7\n",
      "\n",
      "\n",
      "\n",
      "\n",
      "\n",
      " XxX _ Enter the exact 4 - th value of a the Stocker Status Please ! = > 6\n",
      "{'LogInfo': 'We get for the first time the desired level to continue the verification process in this level !'}\n",
      "InputValuesDict ->  {'2022-03-17 12:34:59.731810': 9, '2022-03-17 12:35:00.100205': 8, '2022-03-17 12:35:00.425348': 7, '2022-03-17 12:35:01.014889': 6}\n",
      "Values  ->  [9, 8, 7, 6]\n",
      "                         Date  Values\n",
      "0  2022-03-17 12:34:59.731810       9\n",
      "1  2022-03-17 12:35:00.100205       8\n",
      "2  2022-03-17 12:35:00.425348       7\n",
      "3  2022-03-17 12:35:01.014889       6\n"
     ]
    }
   ],
   "source": [
    "def main():\n",
    "    TELEGRAM_TOKEN = '5121400289:AAHRZKx2voyY3HSfHJi2bgsLdHqnKB_WpcY'\n",
    "    API_URL = f'https://api.telegram.org/bot{TELEGRAM_TOKEN}' + '/{method_name}'\n",
    "# # For a groupe of users grouped on a telegram groupe \n",
    "    chat_id = '-783940739'\n",
    "    # Origin !\n",
    "#     preProcess_collected_data(chat_id, TELEGRAM_TOKEN, API_URL)\n",
    "    return preProcess_collected_data(chat_id, TELEGRAM_TOKEN, API_URL)\n",
    "    \n",
    "if __name__ == '__main__':\n",
    "    data = main()"
   ]
  },
  {
   "cell_type": "code",
   "execution_count": 32,
   "id": "c5b1900e",
   "metadata": {},
   "outputs": [
    {
     "data": {
      "text/plain": [
       "'0 : hours & 11 : minutes & 06 : seconds'"
      ]
     },
     "execution_count": 32,
     "metadata": {},
     "output_type": "execute_result"
    }
   ],
   "source": [
    "from datetime import timedelta\n",
    "\n"
   ]
  },
  {
   "cell_type": "code",
   "execution_count": 4,
   "id": "3ca79a8b",
   "metadata": {},
   "outputs": [
    {
     "ename": "AssertionError",
     "evalue": "Only positive numbers are allowed",
     "output_type": "error",
     "traceback": [
      "\u001b[1;31m---------------------------------------------------------------------------\u001b[0m",
      "\u001b[1;31mAssertionError\u001b[0m                            Traceback (most recent call last)",
      "Input \u001b[1;32mIn [4]\u001b[0m, in \u001b[0;36m<cell line: 4>\u001b[1;34m()\u001b[0m\n\u001b[0;32m      2\u001b[0m     \u001b[38;5;28;01massert\u001b[39;00m x\u001b[38;5;241m>\u001b[39m\u001b[38;5;241m0\u001b[39m, \u001b[38;5;124m'\u001b[39m\u001b[38;5;124mOnly positive numbers are allowed\u001b[39m\u001b[38;5;124m'\u001b[39m\n\u001b[0;32m      3\u001b[0m     \u001b[38;5;28;01mreturn\u001b[39;00m x\u001b[38;5;241m*\u001b[39mx\n\u001b[1;32m----> 4\u001b[0m \u001b[43msquare\u001b[49m\u001b[43m(\u001b[49m\u001b[38;5;241;43m0\u001b[39;49m\u001b[43m)\u001b[49m\n",
      "Input \u001b[1;32mIn [4]\u001b[0m, in \u001b[0;36msquare\u001b[1;34m(x)\u001b[0m\n\u001b[0;32m      1\u001b[0m \u001b[38;5;28;01mdef\u001b[39;00m \u001b[38;5;21msquare\u001b[39m(x):\n\u001b[1;32m----> 2\u001b[0m     \u001b[38;5;28;01massert\u001b[39;00m x\u001b[38;5;241m>\u001b[39m\u001b[38;5;241m0\u001b[39m, \u001b[38;5;124m'\u001b[39m\u001b[38;5;124mOnly positive numbers are allowed\u001b[39m\u001b[38;5;124m'\u001b[39m\n\u001b[0;32m      3\u001b[0m     \u001b[38;5;28;01mreturn\u001b[39;00m x\u001b[38;5;241m*\u001b[39mx\n",
      "\u001b[1;31mAssertionError\u001b[0m: Only positive numbers are allowed"
     ]
    }
   ],
   "source": [
    "def square(x):\n",
    "    assert x>0, 'Only positive numbers are allowed'\n",
    "    return x*x\n",
    "square(0)"
   ]
  },
  {
   "cell_type": "code",
   "execution_count": null,
   "id": "e577121f",
   "metadata": {},
   "outputs": [],
   "source": []
  },
  {
   "cell_type": "markdown",
   "id": "3b09384c",
   "metadata": {},
   "source": [
    "## "
   ]
  },
  {
   "cell_type": "code",
   "execution_count": 230,
   "id": "18b1b125",
   "metadata": {},
   "outputs": [],
   "source": [
    "# # Test de la bibliothèque schedule\n",
    "# import schedule\n",
    "# import time\n",
    "\n",
    "# def job():\n",
    "#     print(\"I'm working...\")\n",
    "\n",
    "# schedule.every(10).seconds.do(job)\n",
    "# schedule.every(10).minutes.do(job)\n",
    "# schedule.every().hour.do(job)\n",
    "# schedule.every().day.at(\"10:30\").do(job)\n",
    "# schedule.every(5).to(10).minutes.do(job)\n",
    "# schedule.every().monday.do(job)\n",
    "# schedule.every().wednesday.at(\"13:15\").do(job)\n",
    "# schedule.every().minute.at(\":17\").do(job)\n",
    "\n",
    "# while True:\n",
    "#     schedule.run_pending()\n",
    "#     time.sleep(1)"
   ]
  },
  {
   "cell_type": "code",
   "execution_count": 301,
   "id": "fdbce8b1",
   "metadata": {},
   "outputs": [
    {
     "data": {
      "text/plain": [
       "'2022-03-17 10:53:33'"
      ]
     },
     "execution_count": 301,
     "metadata": {},
     "output_type": "execute_result"
    }
   ],
   "source": []
  },
  {
   "cell_type": "code",
   "execution_count": 231,
   "id": "01aedd7e",
   "metadata": {},
   "outputs": [],
   "source": [
    "# # Draft\n",
    "# import time\n",
    "# import schedule\n",
    "# import requests\n",
    "\n",
    "# def telegram_bot_sendtext(bot_message):\n",
    "#     bot_token = '5121400289:AAHRZKx2voyY3HSfHJi2bgsLdHqnKB_WpcY'\n",
    "#     bot_chatID = '1104376640'\n",
    "#     send_text = 'https://api.telegram.org/bot' + bot_token + '/sendMessage?chat_id=' + bot_chatID + '&parse_mode=Markdown&text=' + bot_message\n",
    "\n",
    "#     response = requests.get(send_text)\n",
    "#     return response.json()\n",
    "\n",
    "# def report():\n",
    "#     my_balance = \"hello word \"   ## Replace this number with an API call to fetch your account balance\n",
    "#     my_message = \"Current balance is: {}\".format(my_balance)   ## Customize your message\n",
    "#     telegram_bot_sendtext(my_message)\n",
    "#     print(my_message)\n",
    "\n",
    "# # Faire un Running permanent configuré du script:\n",
    "# # schedule.every().day.at(\"14:21\").do(report)\n",
    "\n",
    "# # while True:\n",
    "# #     schedule.run_pending()\n",
    "# #     time.sleep(1)\n",
    "\n",
    "# # report()\n",
    "\n",
    "# # test Also with : \n",
    "# TestDoc = '.\\\\Input_Data.xlsx'\n",
    "# telegram_bot_sendtext(FileInfo_Res[\"data\"].to_string())"
   ]
  },
  {
   "cell_type": "code",
   "execution_count": null,
   "id": "9eb58319",
   "metadata": {},
   "outputs": [],
   "source": []
  },
  {
   "cell_type": "code",
   "execution_count": null,
   "id": "3c4cd58a",
   "metadata": {},
   "outputs": [],
   "source": []
  }
 ],
 "metadata": {
  "kernelspec": {
   "display_name": "Python 3 (ipykernel)",
   "language": "python",
   "name": "python3"
  },
  "language_info": {
   "codemirror_mode": {
    "name": "ipython",
    "version": 3
   },
   "file_extension": ".py",
   "mimetype": "text/x-python",
   "name": "python",
   "nbconvert_exporter": "python",
   "pygments_lexer": "ipython3",
   "version": "3.8.12"
  }
 },
 "nbformat": 4,
 "nbformat_minor": 5
}
